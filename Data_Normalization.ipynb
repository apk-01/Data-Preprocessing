{
  "nbformat": 4,
  "nbformat_minor": 0,
  "metadata": {
    "colab": {
      "name": "Data Normalization.ipynb",
      "provenance": []
    },
    "kernelspec": {
      "name": "python3",
      "display_name": "Python 3"
    },
    "language_info": {
      "name": "python"
    }
  },
  "cells": [
    {
      "cell_type": "markdown",
      "metadata": {
        "id": "WNs9U8gAdshg"
      },
      "source": [
        "Normalization is generally required when we are dealing with attributes on a different scale. To perform normalization, we can use:\n",
        "1. Z-score \n",
        "2. Scaling of data\n",
        "3. Min-Max normalization"
      ]
    },
    {
      "cell_type": "code",
      "metadata": {
        "id": "fvvwnf05YUYK"
      },
      "source": [
        "import pandas as pd\n",
        "import numpy as np"
      ],
      "execution_count": 2,
      "outputs": []
    },
    {
      "cell_type": "code",
      "metadata": {
        "colab": {
          "base_uri": "https://localhost:8080/",
          "height": 195
        },
        "id": "WHPvyHJvYU4t",
        "outputId": "0019ce46-035b-44ac-aebd-49da93c22a1b"
      },
      "source": [
        "df = pd.DataFrame([\n",
        "                   [300000, 567, 15.9, 2340], \n",
        "                   [123400, 985, 56.4, 8970], \n",
        "                   [230000, 123, 14.0, 4543], \n",
        "                   [675670, 876, 87.5, 1675],\n",
        "                   [567887, 666, 56.8, 1255]],\n",
        "    \n",
        "                   columns=['A','B','C','D'])\n",
        "df\n",
        "\n"
      ],
      "execution_count": 9,
      "outputs": [
        {
          "output_type": "execute_result",
          "data": {
            "text/html": [
              "<div>\n",
              "<style scoped>\n",
              "    .dataframe tbody tr th:only-of-type {\n",
              "        vertical-align: middle;\n",
              "    }\n",
              "\n",
              "    .dataframe tbody tr th {\n",
              "        vertical-align: top;\n",
              "    }\n",
              "\n",
              "    .dataframe thead th {\n",
              "        text-align: right;\n",
              "    }\n",
              "</style>\n",
              "<table border=\"1\" class=\"dataframe\">\n",
              "  <thead>\n",
              "    <tr style=\"text-align: right;\">\n",
              "      <th></th>\n",
              "      <th>A</th>\n",
              "      <th>B</th>\n",
              "      <th>C</th>\n",
              "      <th>D</th>\n",
              "    </tr>\n",
              "  </thead>\n",
              "  <tbody>\n",
              "    <tr>\n",
              "      <th>0</th>\n",
              "      <td>300000</td>\n",
              "      <td>567</td>\n",
              "      <td>15.9</td>\n",
              "      <td>2340</td>\n",
              "    </tr>\n",
              "    <tr>\n",
              "      <th>1</th>\n",
              "      <td>123400</td>\n",
              "      <td>985</td>\n",
              "      <td>56.4</td>\n",
              "      <td>8970</td>\n",
              "    </tr>\n",
              "    <tr>\n",
              "      <th>2</th>\n",
              "      <td>230000</td>\n",
              "      <td>123</td>\n",
              "      <td>14.0</td>\n",
              "      <td>4543</td>\n",
              "    </tr>\n",
              "    <tr>\n",
              "      <th>3</th>\n",
              "      <td>675670</td>\n",
              "      <td>876</td>\n",
              "      <td>87.5</td>\n",
              "      <td>1675</td>\n",
              "    </tr>\n",
              "    <tr>\n",
              "      <th>4</th>\n",
              "      <td>567887</td>\n",
              "      <td>666</td>\n",
              "      <td>56.8</td>\n",
              "      <td>1255</td>\n",
              "    </tr>\n",
              "  </tbody>\n",
              "</table>\n",
              "</div>"
            ],
            "text/plain": [
              "        A    B     C     D\n",
              "0  300000  567  15.9  2340\n",
              "1  123400  985  56.4  8970\n",
              "2  230000  123  14.0  4543\n",
              "3  675670  876  87.5  1675\n",
              "4  567887  666  56.8  1255"
            ]
          },
          "metadata": {
            "tags": []
          },
          "execution_count": 9
        }
      ]
    },
    {
      "cell_type": "markdown",
      "metadata": {
        "id": "2r_XFsJueY7D"
      },
      "source": [
        "# Scaling of data by maximum absolute value\n",
        "\n"
      ]
    },
    {
      "cell_type": "code",
      "metadata": {
        "colab": {
          "base_uri": "https://localhost:8080/",
          "height": 195
        },
        "id": "XRHh1-oZaSv0",
        "outputId": "8acbbabe-fde9-467a-fc86-5596b49dd29a"
      },
      "source": [
        "df_norm=df.copy()\n",
        "\n",
        "for col in df_norm:\n",
        "  df_norm[col]=df_norm[col]/df_norm[col].abs().max()\n",
        "\n",
        "df_norm"
      ],
      "execution_count": 10,
      "outputs": [
        {
          "output_type": "execute_result",
          "data": {
            "text/html": [
              "<div>\n",
              "<style scoped>\n",
              "    .dataframe tbody tr th:only-of-type {\n",
              "        vertical-align: middle;\n",
              "    }\n",
              "\n",
              "    .dataframe tbody tr th {\n",
              "        vertical-align: top;\n",
              "    }\n",
              "\n",
              "    .dataframe thead th {\n",
              "        text-align: right;\n",
              "    }\n",
              "</style>\n",
              "<table border=\"1\" class=\"dataframe\">\n",
              "  <thead>\n",
              "    <tr style=\"text-align: right;\">\n",
              "      <th></th>\n",
              "      <th>A</th>\n",
              "      <th>B</th>\n",
              "      <th>C</th>\n",
              "      <th>D</th>\n",
              "    </tr>\n",
              "  </thead>\n",
              "  <tbody>\n",
              "    <tr>\n",
              "      <th>0</th>\n",
              "      <td>0.444004</td>\n",
              "      <td>0.575635</td>\n",
              "      <td>0.181714</td>\n",
              "      <td>0.260870</td>\n",
              "    </tr>\n",
              "    <tr>\n",
              "      <th>1</th>\n",
              "      <td>0.182634</td>\n",
              "      <td>1.000000</td>\n",
              "      <td>0.644571</td>\n",
              "      <td>1.000000</td>\n",
              "    </tr>\n",
              "    <tr>\n",
              "      <th>2</th>\n",
              "      <td>0.340403</td>\n",
              "      <td>0.124873</td>\n",
              "      <td>0.160000</td>\n",
              "      <td>0.506466</td>\n",
              "    </tr>\n",
              "    <tr>\n",
              "      <th>3</th>\n",
              "      <td>1.000000</td>\n",
              "      <td>0.889340</td>\n",
              "      <td>1.000000</td>\n",
              "      <td>0.186734</td>\n",
              "    </tr>\n",
              "    <tr>\n",
              "      <th>4</th>\n",
              "      <td>0.840480</td>\n",
              "      <td>0.676142</td>\n",
              "      <td>0.649143</td>\n",
              "      <td>0.139911</td>\n",
              "    </tr>\n",
              "  </tbody>\n",
              "</table>\n",
              "</div>"
            ],
            "text/plain": [
              "          A         B         C         D\n",
              "0  0.444004  0.575635  0.181714  0.260870\n",
              "1  0.182634  1.000000  0.644571  1.000000\n",
              "2  0.340403  0.124873  0.160000  0.506466\n",
              "3  1.000000  0.889340  1.000000  0.186734\n",
              "4  0.840480  0.676142  0.649143  0.139911"
            ]
          },
          "metadata": {
            "tags": []
          },
          "execution_count": 10
        }
      ]
    },
    {
      "cell_type": "markdown",
      "metadata": {
        "id": "vAprNeC1fvHu"
      },
      "source": [
        "# Z-score scaling"
      ]
    },
    {
      "cell_type": "code",
      "metadata": {
        "colab": {
          "base_uri": "https://localhost:8080/",
          "height": 195
        },
        "id": "2vCGiN5Xa-yz",
        "outputId": "75db9e03-574e-4a6e-9a9e-0bf43e3ccae3"
      },
      "source": [
        "df_z=df.copy()\n",
        "\n",
        "for col in df_z:\n",
        "  df_z[col]=(df_z[col] -df_z[col].mean()) / df_z[col].std() \n",
        "\n",
        "df_z"
      ],
      "execution_count": 11,
      "outputs": [
        {
          "output_type": "execute_result",
          "data": {
            "text/html": [
              "<div>\n",
              "<style scoped>\n",
              "    .dataframe tbody tr th:only-of-type {\n",
              "        vertical-align: middle;\n",
              "    }\n",
              "\n",
              "    .dataframe tbody tr th {\n",
              "        vertical-align: top;\n",
              "    }\n",
              "\n",
              "    .dataframe thead th {\n",
              "        text-align: right;\n",
              "    }\n",
              "</style>\n",
              "<table border=\"1\" class=\"dataframe\">\n",
              "  <thead>\n",
              "    <tr style=\"text-align: right;\">\n",
              "      <th></th>\n",
              "      <th>A</th>\n",
              "      <th>B</th>\n",
              "      <th>C</th>\n",
              "      <th>D</th>\n",
              "    </tr>\n",
              "  </thead>\n",
              "  <tbody>\n",
              "    <tr>\n",
              "      <th>0</th>\n",
              "      <td>-0.340494</td>\n",
              "      <td>-0.228300</td>\n",
              "      <td>-0.970683</td>\n",
              "      <td>-0.445768</td>\n",
              "    </tr>\n",
              "    <tr>\n",
              "      <th>1</th>\n",
              "      <td>-1.097897</td>\n",
              "      <td>1.020774</td>\n",
              "      <td>0.330199</td>\n",
              "      <td>1.640526</td>\n",
              "    </tr>\n",
              "    <tr>\n",
              "      <th>2</th>\n",
              "      <td>-0.640711</td>\n",
              "      <td>-1.555067</td>\n",
              "      <td>-1.031712</td>\n",
              "      <td>0.247460</td>\n",
              "    </tr>\n",
              "    <tr>\n",
              "      <th>3</th>\n",
              "      <td>1.270681</td>\n",
              "      <td>0.695059</td>\n",
              "      <td>1.329148</td>\n",
              "      <td>-0.655027</td>\n",
              "    </tr>\n",
              "    <tr>\n",
              "      <th>4</th>\n",
              "      <td>0.808421</td>\n",
              "      <td>0.067534</td>\n",
              "      <td>0.343047</td>\n",
              "      <td>-0.787191</td>\n",
              "    </tr>\n",
              "  </tbody>\n",
              "</table>\n",
              "</div>"
            ],
            "text/plain": [
              "          A         B         C         D\n",
              "0 -0.340494 -0.228300 -0.970683 -0.445768\n",
              "1 -1.097897  1.020774  0.330199  1.640526\n",
              "2 -0.640711 -1.555067 -1.031712  0.247460\n",
              "3  1.270681  0.695059  1.329148 -0.655027\n",
              "4  0.808421  0.067534  0.343047 -0.787191"
            ]
          },
          "metadata": {
            "tags": []
          },
          "execution_count": 11
        }
      ]
    },
    {
      "cell_type": "markdown",
      "metadata": {
        "id": "uCbWjVUSf08Z"
      },
      "source": [
        "# Min-max scaling"
      ]
    },
    {
      "cell_type": "code",
      "metadata": {
        "colab": {
          "base_uri": "https://localhost:8080/",
          "height": 195
        },
        "id": "8KgSY2Ryes7s",
        "outputId": "fe151259-5dca-45e8-cb9c-ab97e59aba18"
      },
      "source": [
        "df_mm=df.copy()\n",
        "\n",
        "for col in df_mm:\n",
        "  df_mm[col]=(df_mm[col] - df_mm[col].min()) / (df_mm[col].max() - df_mm[col].min())  \n",
        "\n",
        "df_mm"
      ],
      "execution_count": 12,
      "outputs": [
        {
          "output_type": "execute_result",
          "data": {
            "text/html": [
              "<div>\n",
              "<style scoped>\n",
              "    .dataframe tbody tr th:only-of-type {\n",
              "        vertical-align: middle;\n",
              "    }\n",
              "\n",
              "    .dataframe tbody tr th {\n",
              "        vertical-align: top;\n",
              "    }\n",
              "\n",
              "    .dataframe thead th {\n",
              "        text-align: right;\n",
              "    }\n",
              "</style>\n",
              "<table border=\"1\" class=\"dataframe\">\n",
              "  <thead>\n",
              "    <tr style=\"text-align: right;\">\n",
              "      <th></th>\n",
              "      <th>A</th>\n",
              "      <th>B</th>\n",
              "      <th>C</th>\n",
              "      <th>D</th>\n",
              "    </tr>\n",
              "  </thead>\n",
              "  <tbody>\n",
              "    <tr>\n",
              "      <th>0</th>\n",
              "      <td>0.319771</td>\n",
              "      <td>0.515081</td>\n",
              "      <td>0.025850</td>\n",
              "      <td>0.140635</td>\n",
              "    </tr>\n",
              "    <tr>\n",
              "      <th>1</th>\n",
              "      <td>0.000000</td>\n",
              "      <td>1.000000</td>\n",
              "      <td>0.576871</td>\n",
              "      <td>1.000000</td>\n",
              "    </tr>\n",
              "    <tr>\n",
              "      <th>2</th>\n",
              "      <td>0.193022</td>\n",
              "      <td>0.000000</td>\n",
              "      <td>0.000000</td>\n",
              "      <td>0.426183</td>\n",
              "    </tr>\n",
              "    <tr>\n",
              "      <th>3</th>\n",
              "      <td>1.000000</td>\n",
              "      <td>0.873550</td>\n",
              "      <td>1.000000</td>\n",
              "      <td>0.054439</td>\n",
              "    </tr>\n",
              "    <tr>\n",
              "      <th>4</th>\n",
              "      <td>0.804836</td>\n",
              "      <td>0.629930</td>\n",
              "      <td>0.582313</td>\n",
              "      <td>0.000000</td>\n",
              "    </tr>\n",
              "  </tbody>\n",
              "</table>\n",
              "</div>"
            ],
            "text/plain": [
              "          A         B         C         D\n",
              "0  0.319771  0.515081  0.025850  0.140635\n",
              "1  0.000000  1.000000  0.576871  1.000000\n",
              "2  0.193022  0.000000  0.000000  0.426183\n",
              "3  1.000000  0.873550  1.000000  0.054439\n",
              "4  0.804836  0.629930  0.582313  0.000000"
            ]
          },
          "metadata": {
            "tags": []
          },
          "execution_count": 12
        }
      ]
    }
  ]
}